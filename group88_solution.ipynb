{
  "cells": [
    {
      "cell_type": "code",
      "execution_count": null,
      "metadata": {
        "id": "-HID9NwljGSB"
      },
      "outputs": [],
      "source": [
        "# Import statements\n",
        "import matplotlib.pyplot as plt\n",
        "import numpy as np\n",
        "import pandas as pd\n",
        "import seaborn as sns\n",
        "from sklearn.preprocessing import MinMaxScaler"
      ]
    },
    {
      "cell_type": "code",
      "execution_count": null,
      "metadata": {
        "id": "XBt0i-_ejII6"
      },
      "outputs": [],
      "source": [
        "diabetic_data = pd.read_csv('diabetic_data.csv')"
      ]
    },
    {
      "cell_type": "markdown",
      "metadata": {
        "id": "H6SmFgDo3_dy"
      },
      "source": [
        "# Part 1: Building up a basic predictive model"
      ]
    },
    {
      "cell_type": "code",
      "execution_count": null,
      "metadata": {
        "colab": {
          "base_uri": "https://localhost:8080/"
        },
        "id": "PbGCBu9P3UrY",
        "outputId": "e166be5b-3a98-4d31-da88-3bd92c1e760d"
      },
      "outputs": [],
      "source": [
        "# Show the shape of the data.\n",
        "diabetic_data.shape"
      ]
    },
    {
      "cell_type": "code",
      "execution_count": null,
      "metadata": {
        "colab": {
          "base_uri": "https://localhost:8080/"
        },
        "id": "tnwv_NFz3N8V",
        "outputId": "eecc0cf4-e4bb-4ac0-9cd1-96e357e7d400"
      },
      "outputs": [],
      "source": [
        "# Removing irrelevant columns from the dataset\n",
        "diabetic_data_droped_irrelevant = diabetic_data.drop(columns=['encounter_id', 'payer_code', 'patient_nbr'])\n",
        "\n",
        "# Displaying the dimensions of the updated dataset\n",
        "diabetic_data_droped_irrelevant.shape"
      ]
    },
    {
      "cell_type": "code",
      "execution_count": null,
      "metadata": {
        "colab": {
          "base_uri": "https://localhost:8080/"
        },
        "id": "C2JvFdBU4RtQ",
        "outputId": "fce42be1-354d-4181-ff45-38a96eade774"
      },
      "outputs": [],
      "source": [
        "# Calculate the count of missing values represented as '?' before they are replaced\n",
        "missing_before = diabetic_data_droped_irrelevant.isin(['?']).sum()\n",
        "\n",
        "# Filter and display columns with more than 0 missing values before replacement\n",
        "missing_before[missing_before > 0]"
      ]
    },
    {
      "cell_type": "code",
      "execution_count": null,
      "metadata": {
        "colab": {
          "base_uri": "https://localhost:8080/"
        },
        "id": "5gioQM8y3eq1",
        "outputId": "3bf178f9-8a20-4ff7-f3c1-c003dc5251b1"
      },
      "outputs": [],
      "source": [
        "# Replace '?' with NA to properly identify missing values\n",
        "diabetic_data_dropped_missing = diabetic_data_droped_irrelevant.replace(['?'], pd.NA)\n",
        "\n",
        "# Calculate and display the number of NA values in each column where they exist\n",
        "missing_before = diabetic_data_dropped_missing.isna().sum()\n",
        "missing_before = missing_before[missing_before > 0]\n",
        "missing_before"
      ]
    },
    {
      "cell_type": "code",
      "execution_count": null,
      "metadata": {
        "colab": {
          "base_uri": "https://localhost:8080/"
        },
        "id": "nbmmknjO4HZi",
        "outputId": "7af23251-18a3-4665-81e4-569ab1717eb7"
      },
      "outputs": [],
      "source": [
        "# Updating 'readmitted' column to binary values: 1 for readmitted in less than 30 days, 0 otherwise\n",
        "diabetic_data_dropped_missing['readmitted'] = diabetic_data_dropped_missing['readmitted'].replace({\n",
        "    '<30': 1,\n",
        "    '>30': 0,\n",
        "    'NO': 0,\n",
        "})\n",
        "\n",
        "# Displaying the distribution of binary values in 'readmitted' after conversion\n",
        "readmitted_value_counts = diabetic_data_dropped_missing['readmitted'].value_counts()\n",
        "readmitted_value_counts"
      ]
    },
    {
      "cell_type": "code",
      "execution_count": null,
      "metadata": {
        "colab": {
          "base_uri": "https://localhost:8080/"
        },
        "id": "1xp4w43c5XJ2",
        "outputId": "123603e2-3c56-4df4-d913-6649a8f58f82"
      },
      "outputs": [],
      "source": [
        "# Grouping column names by their data types\n",
        "grouped_columns = diabetic_data_dropped_missing.columns.to_series().groupby(diabetic_data_dropped_missing.dtypes).groups\n",
        "\n",
        "# Converting the dictionary's keys from dtype objects to their string representation\n",
        "grouped_columns = {k.name: v.tolist() for k, v in grouped_columns.items()}\n",
        "\n",
        "grouped_columns"
      ]
    },
    {
      "cell_type": "code",
      "execution_count": null,
      "metadata": {
        "colab": {
          "base_uri": "https://localhost:8080/"
        },
        "id": "2pJYm9lD54Tb",
        "outputId": "85ece13a-e14f-41af-acd8-4c9243adc5c7"
      },
      "outputs": [],
      "source": [
        "# Determining the percentage of missing values in each column\n",
        "missing_percentage = (diabetic_data_dropped_missing.isna().sum() / len(diabetic_data_dropped_missing)) * 100\n",
        "\n",
        "# Identifying columns with over 90% missing values for potential removal\n",
        "columns_to_drop = missing_percentage[missing_percentage > 90].index\n",
        "columns_to_drop"
      ]
    },
    {
      "cell_type": "code",
      "execution_count": null,
      "metadata": {
        "colab": {
          "base_uri": "https://localhost:8080/"
        },
        "id": "6KN1d9s_6Cg5",
        "outputId": "31385247-0c6f-4c76-cbdf-b7fff5168e59"
      },
      "outputs": [],
      "source": [
        "# Removing columns from the dataset that have more than 90% missing values\n",
        "diabetic_data_reduced = diabetic_data_dropped_missing.drop(columns=columns_to_drop)\n",
        "\n",
        "# Calculating and displaying the new percentages of missing values in each column after removal\n",
        "new_missing_percentage = (diabetic_data_reduced.isna().sum() / len(diabetic_data_reduced)) * 100\n",
        "new_missing_percentage[new_missing_percentage > 0]"
      ]
    },
    {
      "cell_type": "code",
      "execution_count": null,
      "metadata": {
        "colab": {
          "base_uri": "https://localhost:8080/"
        },
        "id": "YREdk5vO6R0g",
        "outputId": "3aff05e7-317e-42e7-f194-e368e147369c"
      },
      "outputs": [],
      "source": [
        "# List of columns with near zero variance\n",
        "near_zero_variance_columns = [\n",
        "    'repaglinide', 'nateglinide', 'chlorpropamide', 'glimepiride',\n",
        "    'acetohexamide', 'tolbutamide', 'acarbose', 'miglitol', 'troglitazone',\n",
        "    'tolazamide', 'examide', 'citoglipton', 'glyburide-metformin',\n",
        "    'glipizide-metformin', 'glimepiride-pioglitazone', 'metformin-rosiglitazone',\n",
        "    'metformin-pioglitazone'\n",
        "]\n",
        "\n",
        "# Delete the specified near zero-variance columns\n",
        "diabetic_data_dropped_zero_variance = diabetic_data_reduced.drop(columns=near_zero_variance_columns)\n",
        "\n",
        "# Show the new shape of the data to confirm the deletion\n",
        "diabetic_data_dropped_zero_variance.shape"
      ]
    },
    {
      "cell_type": "code",
      "execution_count": null,
      "metadata": {
        "colab": {
          "base_uri": "https://localhost:8080/"
        },
        "id": "n4mfyPBY5m-J",
        "outputId": "20ebd13d-b402-4cf3-cd06-ef603ae242d3"
      },
      "outputs": [],
      "source": [
        "# Specifying IDs associated with unclear or irrelevant information for filtering out\n",
        "admission_type_ids = [5, 6, 8]  # Categories like 'Not Available', 'NULL', 'Not Mapped'\n",
        "discharge_disposition_ids = [18, 25, 26]  # Categories like 'Expired', 'NULL', 'Not Mapped', 'Unknown/Invalid'\n",
        "admission_source_ids = [9, 15, 17, 20, 21]  # Categories like 'Not Available', 'NULL', 'Not Mapped', 'Unknown/Invalid'\n",
        "\n",
        "# Calculating the total number of rows that meet the criteria for removal based on above IDs\n",
        "diabetic_data_dropped_zero_variance[\n",
        "    (diabetic_data_dropped_zero_variance['admission_type_id'].isin(admission_type_ids)) |\n",
        "    (diabetic_data_dropped_zero_variance['discharge_disposition_id'].isin(discharge_disposition_ids)) |\n",
        "    (diabetic_data_dropped_zero_variance['admission_source_id'].isin(admission_source_ids))\n",
        "].shape[0]"
      ]
    },
    {
      "cell_type": "code",
      "execution_count": null,
      "metadata": {
        "colab": {
          "base_uri": "https://localhost:8080/"
        },
        "id": "Lch04D376EyE",
        "outputId": "cb1d9af8-534d-4ea7-e76f-9f9aabb94566"
      },
      "outputs": [],
      "source": [
        "# Filtering out rows based on specified IDs that indicate unclear or irrelevant information\n",
        "diabetic_data_filtered_ids = diabetic_data_dropped_zero_variance[\n",
        "    ~diabetic_data_dropped_zero_variance['admission_type_id'].isin(admission_type_ids) &\n",
        "    ~diabetic_data_dropped_zero_variance['discharge_disposition_id'].isin(discharge_disposition_ids) &\n",
        "    ~diabetic_data_dropped_zero_variance['admission_source_id'].isin(admission_source_ids)\n",
        "].copy()\n",
        "\n",
        "# Displaying the dimensions of the dataset after filtering\n",
        "diabetic_data_filtered_ids.shape"
      ]
    },
    {
      "cell_type": "code",
      "execution_count": null,
      "metadata": {
        "colab": {
          "base_uri": "https://localhost:8080/"
        },
        "id": "fRQuGqSY1dWm",
        "outputId": "1d1853cc-f857-4bb3-d2f4-47bb0265e895"
      },
      "outputs": [],
      "source": [
        "# Filtering out rows where 'gender' is 'Unknown/Invalid'\n",
        "diabetic_data_filtered_ids = diabetic_data_filtered_ids[diabetic_data_filtered_ids['gender'] != 'Unknown/Invalid']\n",
        "\n",
        "# Removing rows where 'race' is categorized as 'Other'\n",
        "diabetic_data_filtered_ids = diabetic_data_filtered_ids[diabetic_data_filtered_ids['race'] != 'Other']\n",
        "\n",
        "# Replacing missing values in 'medical_specialty' with 'Unknown'\n",
        "diabetic_data_filtered_ids['medical_specialty'] = diabetic_data_filtered_ids['medical_specialty'].fillna('Unknown')\n",
        "\n",
        "# Dropping all rows that still contain null values after the above replacements\n",
        "diabetic_data_filled = diabetic_data_filtered_ids.dropna()\n",
        "\n",
        "# Displaying the dimensions of the cleaned dataset to confirm the deletion of rows\n",
        "diabetic_data_filled.shape"
      ]
    },
    {
      "cell_type": "code",
      "execution_count": null,
      "metadata": {
        "colab": {
          "base_uri": "https://localhost:8080/"
        },
        "id": "VkBkv7bC6tFG",
        "outputId": "4b5f8ef0-8312-4802-d031-99a0f34eab82"
      },
      "outputs": [],
      "source": [
        "# Calculate the number of missing values in each column after dropping near zero variance columns\n",
        "missing_after = diabetic_data_filled.isna().sum()\n",
        "\n",
        "# Identify and list columns that still contain missing values\n",
        "missing_after[missing_after > 0]"
      ]
    },
    {
      "cell_type": "code",
      "execution_count": null,
      "metadata": {
        "colab": {
          "base_uri": "https://localhost:8080/"
        },
        "id": "_aX7utCBvOmC",
        "outputId": "e3a9c7fd-e9c9-400a-e1fa-36bad7fb0583"
      },
      "outputs": [],
      "source": [
        "# Copying the filtered dataset for normalization\n",
        "normalized_diabetic_data = diabetic_data_filled.copy()\n",
        "\n",
        "# Normalizing medication-related features by encoding their levels numerically\n",
        "for col in [\"metformin\", \"glipizide\", \"glyburide\", \"pioglitazone\", \"rosiglitazone\", \"insulin\"]:\n",
        "    normalized_diabetic_data[col] = normalized_diabetic_data[col].apply(\n",
        "      lambda x : 10 if x == 'Up' else ( -10 if x == 'Down' else ( 0 if x == 'Steady' else  -20))\n",
        "    )\n",
        "\n",
        "# Normalizing A1C result measurements\n",
        "normalized_diabetic_data['A1Cresult'] = normalized_diabetic_data['A1Cresult'].apply(\n",
        "  lambda x : 7 if x == '>7' else (8 if  x == '>8' else ( 5 if x == 'Norm' else  0))\n",
        ")\n",
        "\n",
        "# Encoding 'change' as binary\n",
        "normalized_diabetic_data['change'] = normalized_diabetic_data['change'].apply(\n",
        "  lambda x : 1 if x == 'Ch' else -1\n",
        ")\n",
        "\n",
        "# Encoding 'diabetesMed' as binary\n",
        "normalized_diabetic_data['diabetesMed'] = normalized_diabetic_data['diabetesMed'].apply(\n",
        "  lambda x : -1 if x == 'No' else 1\n",
        ")\n",
        "\n",
        "# Normalizing maximum glucose serum test results\n",
        "normalized_diabetic_data['max_glu_serum'] = normalized_diabetic_data['max_glu_serum'].apply(\n",
        "  lambda x : 200 if x == '>200' else ( 300 if x == '>300' else ( 100 if x == 'Norm' else  0))\n",
        ")\n",
        "\n",
        "# Normalizing 'age' column to represent the midpoint of each age range\n",
        "normalized_diabetic_data['age'] = normalized_diabetic_data['age'].apply(\n",
        "    lambda x: np.mean([int(age) for age in x.strip('[)').split('-')])\n",
        ")\n",
        "\n",
        "# Function to categorize ICD diagnosis codes into broader categories\n",
        "def categorize_diagnosis(diag_code):\n",
        "    \"\"\"\n",
        "    Categorize the ICD diagnosis codes into broader categories.\n",
        "    \"\"\"\n",
        "    try:\n",
        "        if pd.isnull(diag_code):\n",
        "            return None\n",
        "        code = str(diag_code)\n",
        "        if code.startswith('E') or code.startswith('V') or code[0].isdigit():\n",
        "            code_value = float(code.split('V')[0].split('E')[0])  # Remove letter prefixes for numeric comparison\n",
        "            if 1 <= code_value <= 139:\n",
        "                return 1 # 'Infectious and Parasitic Diseases'\n",
        "            elif 140 <= code_value <= 239:\n",
        "                return 2 # 'Neoplasms'\n",
        "            elif 240 <= code_value <= 279:\n",
        "                return 3 # 'Endocrine, Nutritional, and Metabolic Diseases'\n",
        "            elif 280 <= code_value <= 289:\n",
        "                return 4 # 'Diseases of the Blood and Blood-forming Organs'\n",
        "            elif 290 <= code_value <= 319:\n",
        "                return 5 # 'Mental Disorders'\n",
        "            elif 320 <= code_value <= 389:\n",
        "                return 6 # 'Diseases of the Nervous System'\n",
        "            elif 390 <= code_value <= 459 or code == '785':\n",
        "                return 7 # 'Diseases of the Circulatory System'\n",
        "            elif 460 <= code_value <= 519 or code == '786':\n",
        "                return 8 # 'Diseases of the Respiratory System'\n",
        "            elif 520 <= code_value <= 579 or code == '787':\n",
        "                return 9 # 'Diseases of the Digestive System'\n",
        "            elif 580 <= code_value <= 629 or code == '788':\n",
        "                return 10 # 'Diseases of the Genitourinary System'\n",
        "            elif 630 <= code_value <= 679:\n",
        "                return 11 # 'Pregnancy, Childbirth, and the Puerperium'\n",
        "            elif 680 <= code_value <= 709 or code.startswith('V'):\n",
        "                return 12 # 'Skin and Subcutaneous Tissue Diseases'\n",
        "            elif 710 <= code_value <= 739:\n",
        "                return 13 # 'Musculoskeletal System and Connective Tissue Diseases'\n",
        "            elif 740 <= code_value <= 759:\n",
        "                return 14 # 'Congenital Anomalies'\n",
        "            elif 760 <= code_value <= 779:\n",
        "                return 15 # 'Certain Conditions Originating in the Perinatal Period'\n",
        "            elif 780 <= code_value <= 799 or code.startswith('E'):\n",
        "                return 16 # 'Symptoms, Signs, and Ill-defined Conditions'\n",
        "            elif 800 <= code_value <= 999:\n",
        "                return 17 # 'Injury and Poisoning'\n",
        "            else:\n",
        "                return None\n",
        "        else:\n",
        "            return None\n",
        "    except ValueError:\n",
        "        return None\n",
        "\n",
        "# Applying diagnosis categories to diagnosis columns\n",
        "for col in ['diag_1', 'diag_2', 'diag_3']:\n",
        "    normalized_diabetic_data[col + '_category'] = normalized_diabetic_data[col].apply(categorize_diagnosis)\n",
        "\n",
        "# Removing original diagnosis columns after categorization\n",
        "normalized_diabetic_data = normalized_diabetic_data.drop(columns=['diag_1', 'diag_2', 'diag_3'])\n",
        "\n",
        "# Removing original diagnosis columns after categorization\n",
        "normalized_diabetic_data.dropna(inplace=True)\n",
        "\n",
        "\n",
        "# Displaying the new shape of the data\n",
        "normalized_diabetic_data.shape"
      ]
    },
    {
      "cell_type": "code",
      "execution_count": null,
      "metadata": {
        "colab": {
          "base_uri": "https://localhost:8080/",
          "height": 1000
        },
        "id": "RaS1-gSgs8nK",
        "outputId": "7392e251-a56e-4fff-d8f9-eb8182aaf77a"
      },
      "outputs": [],
      "source": [
        "\n",
        "# Defining the columns where outliers are to be examined\n",
        "outlier_columns = [\n",
        "    'num_lab_procedures',  # Subject to z-score analysis\n",
        "    'num_medications',     # Subject to z-score analysis\n",
        "    'num_procedures',      # Subject to IQR method\n",
        "    'number_diagnoses',    # Subject to IQR method\n",
        "    'time_in_hospital',    # Subject to IQR method\n",
        "    'age',                 # Subject to IQR method\n",
        "    'number_emergency',\n",
        "    'number_inpatient',\n",
        "    'number_outpatient',\n",
        "]\n",
        "\n",
        "# Summary of outlier analysis methods based on the distribution of each column\n",
        "# 'iqr': Column outliers determined by Interquartile Range method\n",
        "# 'z-score': Column outliers identified by Z-score method\n",
        "# 'percentile': Column outliers assessed by percentile thresholds\n",
        "\n",
        "# Setting the size of the plot for better readability and visualization\n",
        "plt.figure(figsize=(18, 12))\n",
        "\n",
        "# Iterating through each column to create histograms\n",
        "for i, column in enumerate(outlier_columns, 1):\n",
        "    plt.subplot(5, 2, i)  # Arranging the charts in a grid of 5 rows by 2 columns\n",
        "    sns.histplot(normalized_diabetic_data[column], color='skyblue', bins=30)  # Using seaborn for histogram\n",
        "    plt.title(f'Distribution of {column}')  # Title for each histogram\n",
        "    plt.ylabel('Frequency')  # Y-axis label\n",
        "    plt.xlabel(column)  # X-axis label\n",
        "\n",
        "# Adjusting the layout for clearer presentation\n",
        "plt.tight_layout()\n",
        "\n",
        "plt.show()"
      ]
    },
    {
      "cell_type": "code",
      "execution_count": null,
      "metadata": {
        "colab": {
          "base_uri": "https://localhost:8080/"
        },
        "id": "qbqgYafKV5wM",
        "outputId": "dc9473e1-4872-4673-e508-3b292bbee42c"
      },
      "outputs": [],
      "source": [
        "# Create a copy of the normalized dataset for outlier removal\n",
        "non_outlier_diabetic_data = normalized_diabetic_data.copy()\n",
        "\n",
        "# Columns to remove outliers using Interquartile Range (IQR)\n",
        "outlier_columns_iqr = [\n",
        "  'num_procedures',  # Using IQR for outlier detection\n",
        "  'number_diagnoses',  # Using IQR for outlier detection\n",
        "  'time_in_hospital',  # Using IQR for outlier detection\n",
        "  'age',  # Using IQR for outlier detection\n",
        "]\n",
        "\n",
        "# Define IQR parameters for filtering\n",
        "q_range = 0.25  # Quartile range\n",
        "iqr_range = 1.5  # Multiplier for IQR\n",
        "\n",
        "# Remove outliers based on IQR for specified columns\n",
        "for column in outlier_columns_iqr:\n",
        "    Q1 = normalized_diabetic_data[column].quantile(q_range)\n",
        "    Q3 = normalized_diabetic_data[column].quantile(1 - q_range)\n",
        "    IQR = Q3 - Q1\n",
        "    non_outlier_diabetic_data = non_outlier_diabetic_data[\n",
        "        (non_outlier_diabetic_data[column] >= (Q1 - iqr_range * IQR)) &\n",
        "        (non_outlier_diabetic_data[column] <= (Q3 + iqr_range * IQR))\n",
        "    ]\n",
        "\n",
        "# Columns to remove outliers using Z-score\n",
        "outlier_columns_zscore = [\n",
        "  'num_lab_procedures',  # Using Z-score for outlier detection\n",
        "  'num_medications',  # Using Z-score for outlier detection\n",
        "]\n",
        "\n",
        "# Remove outliers based on Z-score for specified columns\n",
        "for column in outlier_columns_zscore:\n",
        "  lower_range = round(normalized_diabetic_data[column].mean() - 3 * normalized_diabetic_data[column].std())\n",
        "  upper_range = round(normalized_diabetic_data[column].mean() + 3 * normalized_diabetic_data[column].std())\n",
        "  non_outlier_diabetic_data = non_outlier_diabetic_data[\n",
        "      (non_outlier_diabetic_data[column] >= lower_range) &\n",
        "      (non_outlier_diabetic_data[column] <= upper_range)\n",
        "  ]\n",
        "\n",
        "# Columns to remove outliers using percentile method\n",
        "outlier_columns_percentile = [\n",
        "  'number_emergency',  # Using percentile for outlier detection\n",
        "  'number_inpatient',  # Using percentile for outlier detection\n",
        "  'number_outpatient',  # Using percentile for outlier detection\n",
        "]\n",
        "\n",
        "# Define percentile range for filtering\n",
        "percentile_range = 0.05  # Percentile range for outlier cutoff\n",
        "\n",
        "# Remove outliers based on percentiles for specified columns\n",
        "for column in outlier_columns_percentile:\n",
        "  lower_range1 = normalized_diabetic_data[column].quantile(percentile_range)\n",
        "  upper_range1 = normalized_diabetic_data[column].quantile(1 - percentile_range)\n",
        "  non_outlier_diabetic_data = non_outlier_diabetic_data[\n",
        "      (non_outlier_diabetic_data[column] >= lower_range1) &\n",
        "      (non_outlier_diabetic_data[column] <= upper_range1)\n",
        "  ]\n",
        "\n",
        "# Display the shape of the data after removing outliers\n",
        "non_outlier_diabetic_data.shape"
      ]
    },
    {
      "cell_type": "code",
      "execution_count": null,
      "metadata": {
        "colab": {
          "base_uri": "https://localhost:8080/",
          "height": 1000
        },
        "id": "LhQ2LspL5Jan",
        "outputId": "17a4b451-75ff-4903-a45c-e7a320c61329"
      },
      "outputs": [],
      "source": [
        "# Adjusting figure size for enhanced readability of the histograms\n",
        "plt.figure(figsize=(18, 12))\n",
        "\n",
        "# Iteratively generating histograms for each specified column to analyze distributions\n",
        "for i, column in enumerate(outlier_columns, 1):\n",
        "    plt.subplot(5, 2, i)  # Organizing charts in a grid of 5 rows and 2 columns\n",
        "    sns.histplot(non_outlier_diabetic_data[column], color='skyblue', bins=30)\n",
        "    plt.title(f'Distribution of {column}')  # Setting the title to reflect the current column\n",
        "    plt.ylabel('Frequency')  # Label for the y-axis\n",
        "    plt.xlabel(column)  # Label for the x-axis\n",
        "\n",
        "# Enhancing layout spacing to prevent overlap and improve readability\n",
        "plt.tight_layout()\n",
        "plt.show()  # Displaying the generated histograms\n"
      ]
    },
    {
      "cell_type": "code",
      "execution_count": null,
      "metadata": {
        "colab": {
          "base_uri": "https://localhost:8080/"
        },
        "id": "sZ5Ct5qq4PiQ",
        "outputId": "4b7f97b5-1634-4e84-8ae8-ef186e086c0b"
      },
      "outputs": [],
      "source": [
        "for col in non_outlier_diabetic_data.columns:\n",
        "    # Check if the column has less than ten unique value\n",
        "    if len(non_outlier_diabetic_data[col].unique()) < 10:\n",
        "        print(f\"{col}: {non_outlier_diabetic_data[col].unique()}\")"
      ]
    },
    {
      "cell_type": "code",
      "execution_count": null,
      "metadata": {
        "colab": {
          "base_uri": "https://localhost:8080/",
          "height": 1000
        },
        "id": "0avEW-gUOhOc",
        "outputId": "e33c6c0e-abda-4087-bf92-13110cc4b03d"
      },
      "outputs": [],
      "source": [
        "# Initialize a MinMaxScaler to scale the numerical data to a range [0, 1] for better comparison\n",
        "scaler = MinMaxScaler()\n",
        "\n",
        "# Identifying numerical columns in the dataset\n",
        "numerical_columns = non_outlier_diabetic_data.select_dtypes(include=[np.number]).columns\n",
        "\n",
        "# Optional: Scale the numerical columns for better visualization. Uncomment if scaling is desired.\n",
        "non_outlier_diabetic_data[numerical_columns] = scaler.fit_transform(non_outlier_diabetic_data[numerical_columns])\n",
        "\n",
        "# Generating a scatter matrix for all numerical columns to visualize relationships\n",
        "sns.pairplot(non_outlier_diabetic_data[numerical_columns])\n",
        "plt.suptitle('Scatter Matrix of Numerical Columns', size=16)  # Adjust title size as needed\n",
        "plt.show()"
      ]
    },
    {
      "cell_type": "code",
      "execution_count": null,
      "metadata": {
        "colab": {
          "base_uri": "https://localhost:8080/",
          "height": 949
        },
        "id": "MseVWbhQgo-Q",
        "outputId": "ce9a597a-93e3-4ee0-a0e9-c471beec812e"
      },
      "outputs": [],
      "source": [
        "non_outlier_diabetic_data.corr()"
      ]
    },
    {
      "cell_type": "code",
      "execution_count": null,
      "metadata": {
        "colab": {
          "base_uri": "https://localhost:8080/"
        },
        "id": "2_2AHf-WDeaq",
        "outputId": "e75286de-5935-4f55-b8ef-0732c12c4738"
      },
      "outputs": [],
      "source": [
        "# Load the cleaned diabetic dataset from the specified CSV file\n",
        "data = non_outlier_diabetic_data.copy()\n",
        "\n",
        "# Display the distribution of the 'readmitted' column to understand the frequency of each class\n",
        "distribution = data['readmitted'].value_counts()\n",
        "distribution"
      ]
    },
    {
      "cell_type": "code",
      "execution_count": null,
      "metadata": {
        "colab": {
          "base_uri": "https://localhost:8080/",
          "height": 1000
        },
        "id": "RODSIO1aAw4i",
        "outputId": "f4bd8594-71ce-4d38-d32a-9a48178f1f7c"
      },
      "outputs": [],
      "source": [
        "# Select specific categorical columns for visualization to understand their impact on readmission\n",
        "columns_to_plot = [\n",
        "    'race', 'gender', 'age', 'admission_type_id', 'discharge_disposition_id',\n",
        "    'admission_source_id', 'medical_specialty', 'diag_1_category',\n",
        "    'diag_2_category', 'diag_3_category', 'diabetesMed'\n",
        "]\n",
        "\n",
        "# Set up the plotting environment: one subplot per categorical column\n",
        "fig, axes = plt.subplots(len(columns_to_plot), 1, figsize=(10, 5 * len(columns_to_plot)))\n",
        "\n",
        "# Iterate through the list of columns to create bar plots\n",
        "for i, col in enumerate(columns_to_plot):\n",
        "    # Calculate the distribution of 'readmitted' status for each category within the column\n",
        "    counts = normalized_diabetic_data.groupby([col, 'readmitted']).size().unstack(fill_value=0)\n",
        "    # Create a bar plot for each category's readmitted status\n",
        "    counts.plot(kind='bar', ax=axes[i], color=['skyblue', 'salmon'])\n",
        "    # Set the title and labels for each subplot for clarity\n",
        "    axes[i].set_title(f'Readmitted status distribution in {col}')\n",
        "    axes[i].set_ylabel('Counts')\n",
        "    axes[i].set_xlabel(col)\n",
        "\n",
        "# Ensure there is no layout overlap and display the plots\n",
        "plt.tight_layout()\n",
        "plt.show()"
      ]
    },
    {
      "cell_type": "code",
      "execution_count": null,
      "metadata": {
        "colab": {
          "base_uri": "https://localhost:8080/",
          "height": 1000
        },
        "id": "FmpNv6R1BJKX",
        "outputId": "a024984e-cf2e-48ab-9298-290187b530d0"
      },
      "outputs": [],
      "source": [
        "# Define columns for which we want to plot the percentage distribution of readmitted status\n",
        "columns_to_plot = [\n",
        "    'race', 'gender', 'age', 'admission_type_id', 'discharge_disposition_id',\n",
        "    'admission_source_id', 'medical_specialty', 'diag_1_category',\n",
        "    'diag_2_category', 'diag_3_category', 'diabetesMed'\n",
        "]\n",
        "\n",
        "# Set up the figure for plotting, with individual subplots for each column\n",
        "fig, axes = plt.subplots(len(columns_to_plot), 1, figsize=(10, 5 * len(columns_to_plot)))\n",
        "\n",
        "# Iteratively generate bar plots to show percentage distributions for each categorical feature\n",
        "for i, col in enumerate(columns_to_plot):\n",
        "    # Group the data by the column and 'readmitted' status, then count occurrences\n",
        "    counts = non_outlier_diabetic_data.groupby([col, 'readmitted']).size().unstack(fill_value=0)\n",
        "    # Convert the counts to percentages for a clearer comparison between categories\n",
        "    percentages = counts.div(counts.sum(axis=1), axis=0) * 100\n",
        "    # Plot the percentages as a bar graph on the respective subplot\n",
        "    percentages.plot(kind='bar', ax=axes[i], color=['skyblue', 'salmon'])\n",
        "    # Set the title, y-label, and x-label for each subplot for clarity\n",
        "    axes[i].set_title(f'Percentage of Readmitted Status in {col}')\n",
        "    axes[i].set_ylabel('Percentage (%)')\n",
        "    axes[i].set_xlabel(col)\n",
        "\n",
        "# Ensure the layout is adjusted to prevent overlap and improve readability\n",
        "plt.tight_layout()\n",
        "plt.show()"
      ]
    },
    {
      "cell_type": "code",
      "execution_count": null,
      "metadata": {
        "colab": {
          "base_uri": "https://localhost:8080/",
          "height": 564
        },
        "id": "lFJMuNs7VuHZ",
        "outputId": "41d8ec51-8544-42ba-8a7a-09573455a7ed"
      },
      "outputs": [],
      "source": [
        "# Plot the distribution\n",
        "plt.figure(figsize=[8,6])\n",
        "distribution.plot(kind='bar')\n",
        "plt.title('Distribution of Readmission')\n",
        "plt.xlabel('Readmitted')\n",
        "plt.ylabel('Count')\n",
        "plt.xticks(ticks=[0, 1], labels=['No', 'Yes'], rotation=0)  # Assuming 0: 'No', 1: 'Yes' for readmission\n",
        "plt.grid(axis='y', linestyle='--', alpha=0.7)\n",
        "plt.show()"
      ]
    },
    {
      "cell_type": "code",
      "execution_count": null,
      "metadata": {
        "colab": {
          "base_uri": "https://localhost:8080/",
          "height": 735
        },
        "id": "EFJ98CWaWHvr",
        "outputId": "bc41fbb8-c05a-4c06-f53a-ab3018aaa84c"
      },
      "outputs": [],
      "source": [
        "# Grouping the data by 'age' and 'readmitted' columns and counting the number of occurrences for each combination\n",
        "age_readmitted_counts = data.groupby(['age', 'readmitted']).size().reset_index(name='count')\n",
        "\n",
        "# Transforming the grouped data into a pivot table for easier plotting, with ages as rows and readmission status as columns\n",
        "age_readmitted_pivot = age_readmitted_counts.pivot(index='age', columns='readmitted', values='count').fillna(0)\n",
        "\n",
        "# Creating a stacked bar plot to visualize the count of readmissions for each age group\n",
        "age_readmitted_pivot.plot(kind='bar', figsize=[14,8], alpha=0.75, stacked=True)\n",
        "plt.title('Count of Readmissions by Age Group')  # Set the title for the plot\n",
        "plt.xlabel('Age Group')  # Set the label for the x-axis\n",
        "plt.ylabel('Count of Cases')  # Set the label for the y-axis\n",
        "plt.legend(title='Readmitted', labels=['No', 'Yes'])  # Customize the legend, assuming '0' represents 'No' and '1' represents 'Yes'\n",
        "plt.grid(axis='y', linestyle='--', alpha=0.7)  # Add horizontal grid lines for better readability\n",
        "plt.show()  # Display the plot\n"
      ]
    },
    {
      "cell_type": "code",
      "execution_count": null,
      "metadata": {
        "colab": {
          "base_uri": "https://localhost:8080/",
          "height": 722
        },
        "id": "hJLLs55bWajV",
        "outputId": "6cc6da46-8fa3-4d1c-f965-493dec2a3acf"
      },
      "outputs": [],
      "source": [
        "# Aggregate data by the number of medications and count occurrences of each readmitted status within these groups\n",
        "medications_readmission_count = data.groupby('num_medications')['readmitted'].value_counts().unstack(fill_value=0)\n",
        "\n",
        "# Create a bar plot to visualize the relationship between the number of medications and readmission counts\n",
        "medications_readmission_count.plot(kind='bar', figsize=[14,8], width=1.0, alpha=0.75)\n",
        "plt.title('Count of Target Variable against Number of Medications')  # Setting the plot title\n",
        "plt.xlabel('Number of Medications')  # Labeling the x-axis\n",
        "plt.ylabel('Count of Cases')  # Labeling the y-axis\n",
        "plt.legend(title='Readmitted', labels=['No', 'Yes'])  # Customizing the legend\n",
        "plt.grid(axis='y', linestyle='--', alpha=0.7)  # Adding a grid for better readability\n",
        "plt.show()  # Displaying the plot"
      ]
    },
    {
      "cell_type": "code",
      "execution_count": null,
      "metadata": {
        "colab": {
          "base_uri": "https://localhost:8080/",
          "height": 1000
        },
        "id": "otKHdlmicdZ5",
        "outputId": "ebf76cee-f301-42d4-b77d-e3ec81bed50f"
      },
      "outputs": [],
      "source": [
        "# Compute the correlation matrix for the dataset\n",
        "correlation_matrix = data.corr()\n",
        "\n",
        "# Generate a mask to only show the lower triangle of the matrix, as it's mirrored across the diagonal\n",
        "mask = np.triu(np.ones_like(correlation_matrix, dtype=bool))\n",
        "\n",
        "# Initialize the plot figure with specified figure size\n",
        "plt.figure(figsize=(18, 15))\n",
        "\n",
        "# Plotting the heatmap\n",
        "sns.heatmap(correlation_matrix, mask=mask, cmap='coolwarm', vmax=.3, center=0,\n",
        "            square=True, linewidths=.5, cbar_kws={\"shrink\": .5}, annot=True, fmt=\".2f\")\n",
        "plt.show()  # Display the heatmap"
      ]
    },
    {
      "cell_type": "markdown",
      "metadata": {
        "id": "Kp3ZSppukkIm"
      },
      "source": [
        "* Distribution of Time in Hospital: This histogram would provide insight into how long patients typically stay in the hospital. A skew in the distribution could indicate prevalent short or extended hospital stays, affecting healthcare planning and resource allocation.\n",
        "\n",
        "* Average Number of Medications by Age Group: This bar plot would compare different age groups to see if certain ages are prescribed more medications on average. Trends might indicate age-related health issues or prescribing habits.\n",
        "\n",
        "* Number of Medical Procedures by Age Group: A boxplot for each age group showing the distribution of the number of medical procedures can provide insights into healthcare needs across different life stages. Variability within age groups and differences between them could highlight specific healthcare requirements or identify age groups that are more procedure-intensive."
      ]
    },
    {
      "cell_type": "code",
      "execution_count": null,
      "metadata": {
        "colab": {
          "base_uri": "https://localhost:8080/",
          "height": 1000
        },
        "id": "9dj9xEaCXX4k",
        "outputId": "aec24e15-91e1-4053-81b2-9ec992efdc41"
      },
      "outputs": [],
      "source": [
        "# Set the aesthetic style of the plots\n",
        "sns.set_style(\"whitegrid\")\n",
        "\n",
        "# Plotting a few visualizations to understand different aspects of the data\n",
        "\n",
        "# 1. Distribution of 'time_in_hospital'\n",
        "plt.figure(figsize=(12, 6))\n",
        "sns.histplot(data['time_in_hospital'], kde=True, bins=15, color='skyblue')\n",
        "plt.title('Distribution of Time in Hospital')\n",
        "plt.xlabel('Time in Hospital (Days)')\n",
        "plt.ylabel('Frequency')\n",
        "plt.show()\n",
        "\n",
        "# 2. Average number of medications used for different ages\n",
        "plt.figure(figsize=(12, 6))\n",
        "sns.barplot(x='age', y='num_medications', data=data, palette='mako')\n",
        "plt.title('Average Number of Medications by Age Group')\n",
        "plt.xlabel('Age Group')\n",
        "plt.ylabel('Average Number of Medications')\n",
        "plt.xticks(rotation=45)\n",
        "plt.show()\n",
        "\n",
        "# 3. Boxplot for number of procedures by age\n",
        "plt.figure(figsize=(12, 6))\n",
        "sns.boxplot(x='age', y='num_procedures', data=data, palette='coolwarm')\n",
        "plt.title('Number of Medical Procedures by Age Group')\n",
        "plt.xlabel('Age Group')\n",
        "plt.ylabel('Number of Medical Procedures')\n",
        "plt.xticks(rotation=45)\n",
        "plt.show()"
      ]
    },
    {
      "cell_type": "markdown",
      "metadata": {
        "id": "Bvoz_hEAktJe"
      },
      "source": [
        "* Distribution of Number of Lab Procedures: Another histogram to see the distribution of the number of lab procedures patients undergo.\n",
        "of stay in the hospital.\n",
        "* Readmission Rates by Age Group: A count plot to compare readmission rates across different age groups."
      ]
    },
    {
      "cell_type": "code",
      "execution_count": null,
      "metadata": {
        "colab": {
          "base_uri": "https://localhost:8080/",
          "height": 1000
        },
        "id": "_Zx8vAhRi-Bu",
        "outputId": "1f1da790-05ac-4f90-e99a-456ff25e869d"
      },
      "outputs": [],
      "source": [
        "# Visualization 4: Number of lab procedures\n",
        "plt.figure(figsize=(10, 6))\n",
        "sns.histplot(data['num_lab_procedures'], bins=30, kde=True, color='green')\n",
        "plt.title('Distribution of Number of Lab Procedures')\n",
        "plt.xlabel('Number of Lab Procedures')\n",
        "plt.ylabel('Count')\n",
        "plt.show()\n",
        "\n",
        "# Visualization 5: Readmission rates by age\n",
        "plt.figure(figsize=(12, 8))\n",
        "sns.countplot(x='age', hue='readmitted', data=data, palette='coolwarm')\n",
        "plt.title('Readmission Rates by Age Group')\n",
        "plt.xlabel('Age Group')\n",
        "plt.ylabel('Count')\n",
        "plt.xticks(rotation=45)\n",
        "plt.legend(title='Readmitted', labels=['No', 'Yes'])  # Assuming 0: 'No', 1: 'Yes' for readmission\n",
        "plt.show()\n"
      ]
    },
    {
      "cell_type": "markdown",
      "metadata": {
        "id": "5RyH2S-Rk3Oa"
      },
      "source": [
        "* Boxplot of Number of Lab Procedures by Readmission Status: This could help identify if there are differences in the amount of lab work performed for patients who were readmitted compared to those who were not.\n",
        "\n",
        "* Count of Readmissions by Age Group: This can reveal trends and patterns across different age demographics, potentially informing targeted healthcare strategies."
      ]
    },
    {
      "cell_type": "code",
      "execution_count": null,
      "metadata": {
        "colab": {
          "base_uri": "https://localhost:8080/",
          "height": 1000
        },
        "id": "ezp8M79jjYLb",
        "outputId": "48dcf11f-a03e-48e5-a04e-0b390352510a"
      },
      "outputs": [],
      "source": [
        "# Plot 5: Boxplot for Number of Lab Procedures by Readmission Status (to check for any differences in medical testing between groups)\n",
        "plt.figure(figsize=[12,6])\n",
        "sns.boxplot(x='readmitted', y='num_lab_procedures', data=data)\n",
        "plt.title('Number of Lab Procedures by Readmission Status')\n",
        "plt.xlabel('Readmitted')\n",
        "plt.ylabel('Number of Lab Procedures')\n",
        "plt.xticks(ticks=[0, 1], labels=['No', 'Yes'])  # Assuming 0: 'No', 1: 'Yes' for readmission\n",
        "plt.show()\n",
        "\n",
        "# Plot 6: Count of Readmissions by Race (to observe if there's a pattern in readmissions across different races)\n",
        "plt.figure(figsize=[12,6])\n",
        "sns.countplot(x='race', hue='readmitted', data=data)\n",
        "plt.title('Count of Readmissions by Race')\n",
        "plt.xlabel('Race')\n",
        "plt.ylabel('Count of Readmissions')\n",
        "plt.legend(title='Readmitted', labels=['No', 'Yes'])  # Assuming 0: 'No', 1: 'Yes' for readmission\n",
        "plt.show()"
      ]
    },
    {
      "cell_type": "code",
      "execution_count": null,
      "metadata": {
        "colab": {
          "base_uri": "https://localhost:8080/"
        },
        "id": "-LuOD_uvnStq",
        "outputId": "5f1a90d6-ccde-4b64-aef1-70719df4ffad"
      },
      "outputs": [],
      "source": [
        "import pandas as pd\n",
        "from sklearn.model_selection import train_test_split\n",
        "from sklearn.preprocessing import StandardScaler\n",
        "from sklearn.linear_model import LogisticRegression\n",
        "from sklearn.metrics import accuracy_score, precision_recall_fscore_support\n",
        "import numpy as np\n",
        "\n",
        "# Selecting predictors with atleast 0.02 percent correlation\n",
        "predictors = [\n",
        "    'number_inpatient', # 0.10\n",
        "    'number_diagnoses', # 0.05\n",
        "    'time_in_hospital', # 0.05\n",
        "    'num_medications', # 0.04\n",
        "    'number_emergency', # 0.03\n",
        "    'age', # 0.03\n",
        "\n",
        "    'num_lab_procedures', # 0.02\n",
        "    'number_outpatient', # 0.02\n",
        "    'A1Cresult', # -0.02\n",
        "    'metformin', # -0.02\n",
        "    'insulin', # 0.02\n",
        "  ]\n",
        "\n",
        "\n",
        "def get_balanced_subsets(data, random_state):\n",
        "    # Number of instances with 'readmitted == 1'\n",
        "    count_readmitted_1 = (data['readmitted'] == 1).sum()\n",
        "    count_readmitted_0 = (data['readmitted'] == 0).sum()\n",
        "\n",
        "    # Calculate the number of subsets to create\n",
        "    num_subsets = int(count_readmitted_0 / count_readmitted_1)  # Adjust based on your specific case\n",
        "\n",
        "    # Split data where 'readmitted == 0' into nearly equal subsets\n",
        "    subset_0 = data[data['readmitted'] == 0].sample(frac=1, random_state=random_state)  # Shuffle the data\n",
        "    subsets_0 = np.array_split(subset_0, num_subsets)  # Split into N subsets\n",
        "\n",
        "    # Single subset with 'readmitted == 1' (to be combined with each of the above subsets)\n",
        "    subset_1 = data[data['readmitted'] == 1]\n",
        "\n",
        "    # Combine each '0' subset with '1' subset\n",
        "    balanced_subsets = [pd.concat([s, subset_1]) for s in subsets_0]\n",
        "\n",
        "    return balanced_subsets\n",
        "\n",
        "def train_models_on_subsets(balanced_subsets, predictors):\n",
        "    models = []\n",
        "    metrics = []\n",
        "\n",
        "    for subset in balanced_subsets:\n",
        "        X = subset[predictors].copy()\n",
        "        y = subset['readmitted']\n",
        "\n",
        "        # Split the data into training and testing sets\n",
        "        X_train, X_test, y_train, y_test = train_test_split(X, y, test_size=0.15, random_state=3921)\n",
        "\n",
        "        # Scale the features\n",
        "        scaler = StandardScaler()\n",
        "        X_train_scaled = scaler.fit_transform(X_train)\n",
        "        X_test_scaled = scaler.transform(X_test)\n",
        "\n",
        "        # Initialize and train a logistic regression model\n",
        "        model = LogisticRegression(max_iter=1000)\n",
        "        model.fit(X_train_scaled, y_train)\n",
        "\n",
        "        # Store the model\n",
        "        models.append(model)\n",
        "\n",
        "        # Evaluate the model\n",
        "        y_pred = model.predict(X_test_scaled)\n",
        "        accuracy = accuracy_score(y_test, y_pred)\n",
        "        precision, recall, f1_score, _ = precision_recall_fscore_support(y_test, y_pred, average=None)\n",
        "\n",
        "        # Combine the metrics for each class into an array\n",
        "        report = { 'precision': precision, 'recall': recall, 'f1_score': f1_score }\n",
        "\n",
        "        # Store metrics\n",
        "        metrics.append((accuracy, report))\n",
        "\n",
        "    return models, metrics\n",
        "\n",
        "def get_summary(results):\n",
        "    # Initialize lists to hold the computed metrics\n",
        "    accuracies = []\n",
        "    precisions = [[], []]  # Two classes\n",
        "    recalls = [[], []]     # Two classes\n",
        "    f1_scores = [[], []]   # Two classes\n",
        "\n",
        "    # Extract metrics from each result\n",
        "    for accuracy, metrics in results:\n",
        "        accuracies.append(accuracy)\n",
        "        for i in range(2):  # Assuming two classes\n",
        "            precisions[i].append(metrics['precision'][i])\n",
        "            recalls[i].append(metrics['recall'][i])\n",
        "            f1_scores[i].append(metrics['f1_score'][i])\n",
        "\n",
        "    # Calculate mean and standard deviation for each metric\n",
        "    stats = {\n",
        "        'accuracy': {'mean': np.mean(accuracies), 'std': np.std(accuracies)},\n",
        "        'precision_0': {'mean': np.mean(precisions[0]), 'std': np.std(precisions[0])},\n",
        "        'precision_1': {'mean': np.mean(precisions[1]), 'std': np.std(precisions[1])},\n",
        "        'recall_0': {'mean': np.mean(recalls[0]), 'std': np.std(recalls[0])},\n",
        "        'recall_1': {'mean': np.mean(recalls[1]), 'std': np.std(recalls[1])},\n",
        "        'f1_score_0': {'mean': np.mean(f1_scores[0]), 'std': np.std(f1_scores[0])},\n",
        "        'f1_score_1': {'mean': np.mean(f1_scores[1]), 'std': np.std(f1_scores[1])}\n",
        "    }\n",
        "\n",
        "    return stats\n",
        "\n",
        "# Main function to execute the model training and evaluation\n",
        "def perform_model_train_evaluate(predictors = predictors, random_state = 1242):\n",
        "    # Create balanced subsets\n",
        "    balanced_subsets = get_balanced_subsets(data, random_state)\n",
        "\n",
        "    # Train and evaluate models on these subsets\n",
        "    models, metrics = train_models_on_subsets(balanced_subsets, predictors)\n",
        "\n",
        "    # Compute summary metrics\n",
        "    summary = get_summary(metrics)\n",
        "\n",
        "    return pd.DataFrame(summary)\n",
        "\n",
        "perform_model_train_evaluate()"
      ]
    },
    {
      "cell_type": "markdown",
      "metadata": {
        "id": "3etxFwEqoxMw"
      },
      "source": [
        "# Improved Model"
      ]
    },
    {
      "cell_type": "code",
      "execution_count": null,
      "metadata": {
        "id": "EJuopenppUw-"
      },
      "outputs": [],
      "source": [
        "diabetic_data = pd.read_csv('diabetic_data.csv')"
      ]
    },
    {
      "cell_type": "code",
      "execution_count": null,
      "metadata": {
        "colab": {
          "base_uri": "https://localhost:8080/"
        },
        "id": "CFSHnGf2o2V_",
        "outputId": "5e6d1f39-566c-40df-f9db-2935f5bab160"
      },
      "outputs": [],
      "source": [
        "# Show the shape of the data.\n",
        "diabetic_data.shape"
      ]
    },
    {
      "cell_type": "code",
      "execution_count": null,
      "metadata": {
        "colab": {
          "base_uri": "https://localhost:8080/"
        },
        "id": "NJfPkwVdo4Gh",
        "outputId": "30d2f4e3-f1e4-4e9e-c2ea-373d3eb346fa"
      },
      "outputs": [],
      "source": [
        "# Removing irrelevant columns from the dataset\n",
        "irrelevent_columns = ['encounter_id', 'payer_code', 'patient_nbr']\n",
        "\n",
        "# Removing near zero-variance columns from the dataset\n",
        "near_zero_variance_columns = [\n",
        "    'repaglinide', 'nateglinide', 'chlorpropamide', 'glimepiride',\n",
        "    'acetohexamide', 'tolbutamide', 'acarbose', 'miglitol', 'troglitazone',\n",
        "    'tolazamide', 'examide', 'citoglipton', 'glyburide-metformin',\n",
        "    'glipizide-metformin', 'glimepiride-pioglitazone', 'metformin-rosiglitazone',\n",
        "    'metformin-pioglitazone'\n",
        "]\n",
        "\n",
        "diabetic_data_reduced = diabetic_data.drop(columns=[*irrelevent_columns, *near_zero_variance_columns])\n",
        "diabetic_data_reduced.shape"
      ]
    },
    {
      "cell_type": "code",
      "execution_count": null,
      "metadata": {
        "colab": {
          "base_uri": "https://localhost:8080/"
        },
        "id": "6tpn3D1eo6OM",
        "outputId": "3f9371b1-ee64-4b29-e59e-142a955d1971"
      },
      "outputs": [],
      "source": [
        "# Calculate the count of missing values represented as '?' before they are replaced\n",
        "diabetic_data_replaced = diabetic_data_reduced.replace(['?'], pd.NA)\n",
        "missing_before = diabetic_data_replaced.isna().sum()\n",
        "\n",
        "# Filter and display columns with more than 0 missing values before replacement\n",
        "missing_before[missing_before > 0]"
      ]
    },
    {
      "cell_type": "code",
      "execution_count": null,
      "metadata": {
        "colab": {
          "base_uri": "https://localhost:8080/"
        },
        "id": "dKsgMJd5o6Kt",
        "outputId": "337108fd-15cf-4b83-8249-43fba61efe3d"
      },
      "outputs": [],
      "source": [
        "diabetic_data_filled = diabetic_data_replaced.copy()\n",
        "\n",
        "# Dropping columns with more than 90% missing values\n",
        "diabetic_data_filled.drop(columns=['weight'], inplace=True)\n",
        "\n",
        "# Fill missing 'race' and 'medical_specialty' values with 'Other'\n",
        "# diabetic_data_filled['race'].fillna('Other', inplace=True)\n",
        "diabetic_data_filled.replace(['Unknown/Invalid'], pd.NA, inplace=True)\n",
        "diabetic_data_filled['medical_specialty'].fillna('Other', inplace=True)\n",
        "diabetic_data_filled.dropna(inplace=True)\n",
        "\n",
        "# Fill missing 'diag_1', 'diag_2', 'diag_3' values with the most common values in each column\n",
        "diabetic_data_filled['diag_1'].fillna(diabetic_data_filled['diag_1'].value_counts().idxmax(), inplace=True)\n",
        "diabetic_data_filled['diag_2'].fillna(diabetic_data_filled['diag_2'].value_counts().idxmax(), inplace=True)\n",
        "diabetic_data_filled['diag_3'].fillna(diabetic_data_filled['diag_3'].value_counts().idxmax(), inplace=True)\n",
        "\n",
        "cols_to_be_treated_as_cat = ['admission_type_id', 'discharge_disposition_id', 'admission_source_id']\n",
        "diabetic_data_filled[cols_to_be_treated_as_cat] = diabetic_data_filled[cols_to_be_treated_as_cat].astype('str')\n",
        "\n",
        "diabetic_data_filled.shape"
      ]
    },
    {
      "cell_type": "code",
      "execution_count": null,
      "metadata": {
        "colab": {
          "base_uri": "https://localhost:8080/"
        },
        "id": "OFF94SJqo6IC",
        "outputId": "58ca8b2f-c0ad-4482-bd2d-667537e79050"
      },
      "outputs": [],
      "source": [
        "filtered_diabetic_data = diabetic_data_filled.copy()\n",
        "filtered_diabetic_data = filtered_diabetic_data.loc[~filtered_diabetic_data['admission_type_id'].isin(['5', '6', '8'])]\n",
        "filtered_diabetic_data = filtered_diabetic_data.loc[~filtered_diabetic_data['discharge_disposition_id'].isin(['11', '13', '14', '19', '20', '21', '18', '25', '26'])]\n",
        "filtered_diabetic_data = filtered_diabetic_data.loc[~filtered_diabetic_data['discharge_disposition_id'].isin(['9', '15', '20', '21'])]\n",
        "filtered_diabetic_data.shape"
      ]
    },
    {
      "cell_type": "code",
      "execution_count": null,
      "metadata": {
        "colab": {
          "base_uri": "https://localhost:8080/"
        },
        "id": "_32DsKkKo6FO",
        "outputId": "7da19934-3568-4c61-8b47-c0f8df428c46"
      },
      "outputs": [],
      "source": [
        "# Normalize 'age' column to the average of the age range\n",
        "normalized_diabetic_data = filtered_diabetic_data.copy()\n",
        "\n",
        "for col in [\"metformin\", \"glipizide\", \"glyburide\", \"pioglitazone\", \"rosiglitazone\", \"insulin\"]:\n",
        "    normalized_diabetic_data[col] = normalized_diabetic_data[col].apply(\n",
        "      lambda x : 10 if x == 'Up' else (-10 if x == 'Down' else (0 if x == 'Steady' else  -20))\n",
        "    )\n",
        "\n",
        "normalized_diabetic_data['readmitted'] = normalized_diabetic_data['readmitted'].replace({'<30': 1, '>30': 0, 'NO': 0})\n",
        "\n",
        "normalized_diabetic_data['A1Cresult'] = normalized_diabetic_data['A1Cresult'].apply(\n",
        "  lambda x : 7 if x == '>7' else (8 if  x == '>8' else (5 if x == 'Norm' else  0))\n",
        ")\n",
        "\n",
        "normalized_diabetic_data['change'] = normalized_diabetic_data['change'].apply(\n",
        "  lambda x : 1 if x == 'Ch' else -1\n",
        ")\n",
        "\n",
        "normalized_diabetic_data['diabetesMed'] = normalized_diabetic_data['diabetesMed'].apply(\n",
        "  lambda x : -1 if x == 'No' else 1\n",
        ")\n",
        "\n",
        "normalized_diabetic_data['max_glu_serum'] = normalized_diabetic_data['max_glu_serum'].apply(\n",
        "  lambda x : 200 if x == '>200' else (300 if x == '>300' else (100 if x == 'Norm' else  0))\n",
        ")\n",
        "\n",
        "normalized_diabetic_data['age'] = normalized_diabetic_data['age'].apply(\n",
        "    lambda x: np.mean([int(age) for age in x.strip('[)').split('-')])\n",
        ").astype('int')\n",
        "\n",
        "\n",
        "# Categorize the ICD diagnosis codes into broader categories.\n",
        "def categorize_diagnosis(diag_code):\n",
        "  code = str(diag_code)\n",
        "  if code.startswith('E') or code.startswith('V') or code[0].isdigit():\n",
        "    code_value = float(code.split('V').pop().split('E').pop())  # Remove letter prefixes for numeric comparison\n",
        "    if 1 <= code_value <= 139:\n",
        "      return 1 # 'Infectious and Parasitic Diseases'\n",
        "    elif 140 <= code_value <= 239:\n",
        "      return 2 # 'Neoplasms'\n",
        "    elif 240 <= code_value <= 279:\n",
        "      return 3 # 'Endocrine, Nutritional, and Metabolic Diseases'\n",
        "    elif 280 <= code_value <= 289:\n",
        "      return 4 # 'Diseases of the Blood and Blood-forming Organs'\n",
        "    elif 290 <= code_value <= 319:\n",
        "      return 5 # 'Mental Disorders'\n",
        "    elif 320 <= code_value <= 389:\n",
        "      return 6 # 'Diseases of the Nervous System'\n",
        "    elif 390 <= code_value <= 459 or code == '785':\n",
        "      return 7 # 'Diseases of the Circulatory System'\n",
        "    elif 460 <= code_value <= 519 or code == '786':\n",
        "      return 8 # 'Diseases of the Respiratory System'\n",
        "    elif 520 <= code_value <= 579 or code == '787':\n",
        "      return 9 # 'Diseases of the Digestive System'\n",
        "    elif 580 <= code_value <= 629 or code == '788':\n",
        "      return 10 # 'Diseases of the Genitourinary System'\n",
        "    elif 630 <= code_value <= 679:\n",
        "      return 11 # 'Pregnancy, Childbirth, and the Puerperium'\n",
        "    elif 680 <= code_value <= 709 or code.startswith('V'):\n",
        "      return 12 # 'Skin and Subcutaneous Tissue Diseases'\n",
        "    elif 710 <= code_value <= 739:\n",
        "      return 13 # 'Musculoskeletal System and Connective Tissue Diseases'\n",
        "    elif 740 <= code_value <= 759:\n",
        "      return 14 # 'Congenital Anomalies'\n",
        "    elif 760 <= code_value <= 779:\n",
        "      return 15 # 'Certain Conditions Originating in the Perinatal Period'\n",
        "    elif 780 <= code_value <= 799 or code.startswith('E'):\n",
        "      return 16 # 'Symptoms, Signs, and Ill-defined Conditions'\n",
        "    elif 800 <= code_value <= 999:\n",
        "      return 17 # 'Injury and Poisoning'\n",
        "    else:\n",
        "      return -1\n",
        "\n",
        "# Apply categorization to diag_1, diag_2, diag_3\n",
        "for col in ['diag_1', 'diag_2', 'diag_3']:\n",
        "    normalized_diabetic_data[col] = normalized_diabetic_data[col].apply(categorize_diagnosis).astype('float')\n",
        "\n",
        "normalized_diabetic_data.shape"
      ]
    },
    {
      "cell_type": "code",
      "execution_count": null,
      "metadata": {
        "colab": {
          "base_uri": "https://localhost:8080/"
        },
        "id": "PMBlzucRo6CQ",
        "outputId": "19591626-2e97-43e1-c2fa-0a7623ff980d"
      },
      "outputs": [],
      "source": [
        "non_outlier_diabetic_data = normalized_diabetic_data.copy()\n",
        "\n",
        "# Removing outliers\n",
        "\n",
        "outlier_columns_iqr = [\n",
        "  'num_procedures', # iqr\n",
        "  'number_diagnoses', # iqr\n",
        "  'time_in_hospital', # iqr\n",
        "  'age', # iqr\n",
        "]\n",
        "\n",
        "q_range = 0.25\n",
        "iqr_range = 1.5\n",
        "for column in outlier_columns_iqr:\n",
        "    Q1 = normalized_diabetic_data[column].quantile(q_range)\n",
        "    Q3 = normalized_diabetic_data[column].quantile(1 - q_range)\n",
        "    IQR = Q3 - Q1\n",
        "    non_outlier_diabetic_data = non_outlier_diabetic_data[(non_outlier_diabetic_data[column] >= (Q1 - iqr_range * IQR)) & (non_outlier_diabetic_data[column] <= (Q3 + iqr_range * IQR))]\n",
        "\n",
        "\n",
        "outlier_columns_zscore = [\n",
        "  'num_lab_procedures', # z-score\n",
        "  'num_medications', # z-score\n",
        "]\n",
        "\n",
        "for column in outlier_columns_zscore:\n",
        "  lower_range = round(normalized_diabetic_data[column].mean() - 3 * normalized_diabetic_data[column].std())\n",
        "  upper_range = round(normalized_diabetic_data[column].mean() + 3 * normalized_diabetic_data[column].std())\n",
        "  non_outlier_diabetic_data = non_outlier_diabetic_data[(non_outlier_diabetic_data[column] >= lower_range) & (non_outlier_diabetic_data[column] <= upper_range)]\n",
        "\n",
        "\n",
        "outlier_columns_percentile = [\n",
        "  'number_emergency',\n",
        "  'number_inpatient',\n",
        "  'number_outpatient',\n",
        "]\n",
        "\n",
        "percentile_range = 0.05\n",
        "for column in outlier_columns_percentile:\n",
        "  lower_range1 = normalized_diabetic_data[column].quantile(percentile_range)\n",
        "  upper_range1 = normalized_diabetic_data[column].quantile(1 - percentile_range)\n",
        "\n",
        "  non_outlier_diabetic_data = non_outlier_diabetic_data[(non_outlier_diabetic_data[column] >= (lower_range1)) & (non_outlier_diabetic_data[column] <= (upper_range1))]\n",
        "\n",
        "non_outlier_diabetic_data.shape"
      ]
    },
    {
      "cell_type": "code",
      "execution_count": null,
      "metadata": {
        "colab": {
          "base_uri": "https://localhost:8080/"
        },
        "id": "EhtA19Cqo5-d",
        "outputId": "bf274318-d5c5-4337-c0d2-a1178a68e4b8"
      },
      "outputs": [],
      "source": [
        "# Updating 'readmitted' column to binary values: 1 for readmitted in less than 30 days, 0 otherwise\n",
        "non_outlier_diabetic_data['readmitted'] = non_outlier_diabetic_data['readmitted'].replace({'<30': 1, '>30': 0, 'NO': 0})\n",
        "\n",
        "# Displaying the distribution of binary values in 'readmitted' after conversion\n",
        "readmitted_value_counts = non_outlier_diabetic_data['readmitted'].value_counts()\n",
        "readmitted_value_counts,non_outlier_diabetic_data.shape"
      ]
    },
    {
      "cell_type": "code",
      "execution_count": null,
      "metadata": {
        "colab": {
          "base_uri": "https://localhost:8080/"
        },
        "id": "mCNUG-jCpE4u",
        "outputId": "0758abbc-2c72-4f45-b322-b2b835a7d5ea"
      },
      "outputs": [],
      "source": [
        "# Grouping column names by their data types\n",
        "grouped_columns = non_outlier_diabetic_data.columns.to_series().groupby(non_outlier_diabetic_data.dtypes).groups\n",
        "\n",
        "# Converting the dictionary's keys from dtype objects to their string representation\n",
        "{k.name: v.tolist() for k, v in grouped_columns.items()}"
      ]
    },
    {
      "cell_type": "code",
      "execution_count": null,
      "metadata": {
        "colab": {
          "base_uri": "https://localhost:8080/"
        },
        "id": "bloJxYQhpE1I",
        "outputId": "71428a3a-6dc8-4a93-94e8-2521b15bca34"
      },
      "outputs": [],
      "source": [
        "# Load the cleaned diabetic dataset from the specified CSV file\n",
        "# data = pd.read_csv('/content/diabetic_data_cleaned.csv')\n",
        "data = non_outlier_diabetic_data.copy()\n",
        "# Display the distribution of the 'readmitted' column to understand the frequency of each class\n",
        "distribution = data['readmitted'].value_counts()\n",
        "distribution"
      ]
    },
    {
      "cell_type": "code",
      "execution_count": null,
      "metadata": {
        "colab": {
          "base_uri": "https://localhost:8080/",
          "height": 1000
        },
        "id": "LfM7IVcppEyQ",
        "outputId": "b9a0659a-6fbf-4fa3-db5a-2c932a2c14b3"
      },
      "outputs": [],
      "source": [
        "# Compute the correlation matrix for the dataset\n",
        "correlation_matrix = data.corr(numeric_only=True)\n",
        "\n",
        "# Generate a mask to only show the lower triangle of the matrix, as it's mirrored across the diagonal\n",
        "mask = np.triu(np.ones_like(correlation_matrix, dtype=bool))\n",
        "\n",
        "# Initialize the plot figure with specified figure size\n",
        "plt.figure(figsize=(18, 15))\n",
        "\n",
        "# Plotting the heatmap\n",
        "sns.heatmap(correlation_matrix, mask=mask, cmap='coolwarm', vmax=.3, center=0,\n",
        "            square=True, linewidths=.5, cbar_kws={\"shrink\": .5}, annot=True, fmt=\".2f\")\n",
        "\n",
        "plt.show()  # Display the heatmap"
      ]
    },
    {
      "cell_type": "code",
      "execution_count": null,
      "metadata": {
        "colab": {
          "base_uri": "https://localhost:8080/"
        },
        "id": "-kH5bgfNpEv4",
        "outputId": "ace3bb95-b888-4572-a489-95035e81bb33"
      },
      "outputs": [],
      "source": [
        "import pandas as pd\n",
        "from sklearn.model_selection import train_test_split\n",
        "from sklearn.neighbors import KNeighborsClassifier\n",
        "from sklearn.metrics import classification_report, accuracy_score, roc_auc_score\n",
        "from imblearn.over_sampling import SMOTE\n",
        "\n",
        "data = non_outlier_diabetic_data.copy()\n",
        "data.drop(['num_procedures', 'max_glu_serum', 'glyburide', 'rosiglitazone'], axis=1, inplace=True)\n",
        "data = pd.get_dummies(data)           # This is one-hot encoding. Use with caution for high cardinality features.\n",
        "X = data.drop('readmitted', axis=1)   # Features\n",
        "y = data['readmitted']                # Target variable\n",
        "\n",
        "smote = SMOTE(random_state=42)\n",
        "X_resampled, y_resampled = smote.fit_resample(X, y)\n",
        "X_train, X_test, y_train, y_test = train_test_split(X_resampled, y_resampled, test_size=0.2, random_state=42)\n",
        "\n",
        "knn = KNeighborsClassifier(n_neighbors=4)\n",
        "knn.fit(X_train, y_train)\n",
        "y_pred = knn.predict(X_test)\n",
        "\n",
        "print(\"Accuracy:\", accuracy_score(y_test, y_pred))\n",
        "print(\"Classification Report:\\n\", classification_report(y_test, y_pred))\n",
        "print(\"ROC AUC Score:\", roc_auc_score(y_test, y_pred))"
      ]
    }
  ],
  "metadata": {
    "accelerator": "TPU",
    "colab": {
      "provenance": []
    },
    "kernelspec": {
      "display_name": "Python 3",
      "name": "python3"
    },
    "language_info": {
      "codemirror_mode": {
        "name": "ipython",
        "version": 3
      },
      "file_extension": ".py",
      "mimetype": "text/x-python",
      "name": "python",
      "nbconvert_exporter": "python",
      "pygments_lexer": "ipython3",
      "version": "3.10.11"
    }
  },
  "nbformat": 4,
  "nbformat_minor": 0
}
